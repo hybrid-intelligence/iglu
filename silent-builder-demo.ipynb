{
 "cells": [
  {
   "cell_type": "markdown",
   "id": "ec12106f-c222-48fa-923d-5722c8eea9a4",
   "metadata": {},
   "source": [
    "## Install everything in `README.md` before going through this.\n",
    "\n",
    "Copied from [the youtube video](https://youtu.be/VgcLqqOlO14)"
   ]
  },
  {
   "cell_type": "code",
   "execution_count": 1,
   "id": "a0303661-00b6-4f36-ae5b-b290cc9c5f56",
   "metadata": {},
   "outputs": [
    {
     "name": "stderr",
     "output_type": "stream",
     "text": [
      "/home/tk/.virtualenvs/iglu/lib/python3.8/site-packages/gym-0.18.3-py3.8.egg/gym/logger.py:30: UserWarning: \u001b[33mWARN: Box bound precision lowered by casting to float32\u001b[0m\n",
      "  warnings.warn(colorize('%s: %s'%('WARN', msg % args), 'yellow'))\n",
      "/home/tk/.virtualenvs/iglu/lib/python3.8/site-packages/gym-0.18.3-py3.8.egg/gym/logger.py:30: UserWarning: \u001b[33mWARN: Box bound precision lowered by casting to float32\u001b[0m\n",
      "  warnings.warn(colorize('%s: %s'%('WARN', msg % args), 'yellow'))\n"
     ]
    }
   ],
   "source": [
    "import gym\n",
    "import iglu"
   ]
  },
  {
   "cell_type": "code",
   "execution_count": 2,
   "id": "385a496f-f9fa-4dd0-9b58-03431ac9b849",
   "metadata": {},
   "outputs": [],
   "source": [
    "env = gym.make('IGLUSilentBuilder-v0')"
   ]
  },
  {
   "cell_type": "code",
   "execution_count": 3,
   "id": "c74186d5-0d38-488f-a01e-3b78a9ee4398",
   "metadata": {},
   "outputs": [
    {
     "data": {
      "text/plain": [
       "Dict(agentPos:Box(low=-180.0, high=180.0, shape=(5,)), chat:<iglu.handlers.String object at 0x7f818207d8e0>, compass:Dict(angle:Box(low=-180.0, high=180.0, shape=())), grid:Box(low=0.0, high=6.0, shape=(9, 11, 11)), inventory:Box(low=0.0, high=20.0, shape=(6,)), pov:Box(low=0, high=255, shape=(64, 64, 3)))"
      ]
     },
     "execution_count": 3,
     "metadata": {},
     "output_type": "execute_result"
    }
   ],
   "source": [
    "env.observation_space"
   ]
  },
  {
   "cell_type": "code",
   "execution_count": 4,
   "id": "79ae355d-f32b-4a35-afab-24b9712266f1",
   "metadata": {},
   "outputs": [],
   "source": [
    "from tqdm import tqdm\n",
    "import matplotlib.pyplot as plt\n",
    "from IPython.display import clear_output\n",
    "from PIL import Image"
   ]
  },
  {
   "cell_type": "code",
   "execution_count": 5,
   "id": "76b1304c-c60d-4a84-a6d5-dfe618abc097",
   "metadata": {},
   "outputs": [
    {
     "name": "stderr",
     "output_type": "stream",
     "text": [
      "/home/tk/.virtualenvs/iglu/lib/python3.8/site-packages/gym-0.18.3-py3.8.egg/gym/logger.py:30: UserWarning: \u001b[33mWARN: Box bound precision lowered by casting to float32\u001b[0m\n",
      "  warnings.warn(colorize('%s: %s'%('WARN', msg % args), 'yellow'))\n",
      "/home/tk/.virtualenvs/iglu/lib/python3.8/site-packages/gym-0.18.3-py3.8.egg/gym/logger.py:30: UserWarning: \u001b[33mWARN: Box bound precision lowered by casting to float32\u001b[0m\n",
      "  warnings.warn(colorize('%s: %s'%('WARN', msg % args), 'yellow'))\n",
      "/usr/lib/python3.8/runpy.py:127: RuntimeWarning: 'minerl_patched.utils.process_watcher' found in sys.modules after import of package 'minerl_patched.utils', but prior to execution of 'minerl_patched.utils.process_watcher'; this may result in unpredictable behaviour\n",
      "  warn(RuntimeWarning(msg))\n"
     ]
    }
   ],
   "source": [
    "obs = env.reset()"
   ]
  },
  {
   "cell_type": "code",
   "execution_count": 6,
   "id": "c74bc949-79cf-47ea-9581-43b91a87a3ab",
   "metadata": {},
   "outputs": [
    {
     "data": {
      "image/png": "[encoded data removed]",
      "text/plain": [
       "<PIL.Image.Image image mode=RGB size=64x64 at 0x7F817F596460>"
      ]
     },
     "metadata": {},
     "output_type": "display_data"
    }
   ],
   "source": [
    "display(Image.fromarray(obs['pov'], ))"
   ]
  },
  {
   "cell_type": "code",
   "execution_count": 7,
   "id": "90cdf525-653d-41b9-993d-daff189c250f",
   "metadata": {},
   "outputs": [
    {
     "data": {
      "image/png": "[encoded data removed]",
      "text/plain": [
       "<PIL.Image.Image image mode=RGB size=256x256 at 0x7F81BE0585E0>"
      ]
     },
     "metadata": {},
     "output_type": "display_data"
    }
   ],
   "source": [
    "total_reward = 0.\n",
    "done = False\n",
    "while not done:\n",
    "    display(Image.fromarray(obs['pov'], ).resize((256,256)), )\n",
    "    action = env.action_space.sample()\n",
    "    obs, reward, done, info = env.step(action)\n",
    "    total_reward += reward\n",
    "    clear_output(wait=True)"
   ]
  },
  {
   "cell_type": "code",
   "execution_count": 8,
   "id": "c5f90e66-3a6b-46ed-a94e-533f02d67c29",
   "metadata": {},
   "outputs": [
    {
     "data": {
      "text/plain": [
       "-12.0"
      ]
     },
     "execution_count": 8,
     "metadata": {},
     "output_type": "execute_result"
    }
   ],
   "source": [
    "total_reward"
   ]
  },
  {
   "cell_type": "code",
   "execution_count": 9,
   "id": "68c84add-3f6a-49e5-8c20-e3d46f174075",
   "metadata": {},
   "outputs": [
    {
     "data": {
      "text/plain": [
       "(array([0, 0, 0, 0, 0, 0, 0, 0, 0, 0, 0, 0, 0, 0, 1, 1, 1, 1]),\n",
       " array([2, 2, 3, 4, 4, 4, 4, 4, 4, 5, 5, 5, 6, 6, 4, 4, 4, 4]),\n",
       " array([0, 4, 0, 0, 1, 2, 3, 5, 7, 1, 2, 4, 1, 6, 0, 4, 5, 7]))"
      ]
     },
     "execution_count": 9,
     "metadata": {},
     "output_type": "execute_result"
    }
   ],
   "source": [
    "obs['grid'].nonzero()"
   ]
  },
  {
   "cell_type": "code",
   "execution_count": 10,
   "id": "c23a2d04-d053-4012-b820-6b064354e0f0",
   "metadata": {},
   "outputs": [
    {
     "data": {
      "text/plain": [
       "18"
      ]
     },
     "execution_count": 10,
     "metadata": {},
     "output_type": "execute_result"
    }
   ],
   "source": [
    "len(obs['grid'].nonzero()[0])"
   ]
  },
  {
   "cell_type": "code",
   "execution_count": 11,
   "id": "b7527fdc-836e-4683-8b48-9ced427485e8",
   "metadata": {},
   "outputs": [
    {
     "data": {
      "text/plain": [
       "dict_keys(['pov', 'agentPos', 'compass', 'inventory', 'chat', 'grid'])"
      ]
     },
     "execution_count": 11,
     "metadata": {},
     "output_type": "execute_result"
    }
   ],
   "source": [
    "obs.keys()"
   ]
  },
  {
   "cell_type": "code",
   "execution_count": 12,
   "id": "7c0f6ac4-3f97-4f75-9e6c-121c94072b4f",
   "metadata": {},
   "outputs": [
    {
     "data": {
      "text/plain": [
       "<matplotlib.image.AxesImage at 0x7f81be027310>"
      ]
     },
     "execution_count": 12,
     "metadata": {},
     "output_type": "execute_result"
    },
    {
     "data": {
      "image/png": "[encoded data removed]",
      "text/plain": [
       "<Figure size 432x288 with 1 Axes>"
      ]
     },
     "metadata": {
      "needs_background": "light"
     },
     "output_type": "display_data"
    }
   ],
   "source": [
    "plt.imshow(obs['pov'])"
   ]
  },
  {
   "cell_type": "code",
   "execution_count": 13,
   "id": "0995cb7b-614e-41b7-bf7f-f7c6f78e79b4",
   "metadata": {},
   "outputs": [
    {
     "name": "stdout",
     "output_type": "stream",
     "text": [
      "<Builder> Mission has started.\n",
      "<Builder> hello. what are we building this time?\n",
      "<Architect> hello builder, one moment\n",
      "<Architect> ok, to get started we need to place 4 orange blocks as if they are the corners of a 3x3 square, all of them on the ground\n",
      "<Builder> can i put them anywhere?\n",
      "<Architect> yes, the rest of the structure extends upwards\n",
      "<Architect> perfect\n",
      "<Architect> one moment while i look at the structure\n",
      "<Architect> the second level of the structure consists wholly of red blocks. start by putting a red block on each orange block\n",
      "<Architect> good, now please fill in the outer sides of the second level 3x3 square but leave the middle open\n",
      "<Architect> using red blocks\n",
      "<Builder> okay\n",
      "<Architect> good job builder, we have completed yet another flawless structure!\n",
      "<Builder> its a table?\n",
      "<Builder> good job\n",
      "<Architect> i don't know what it is\n"
     ]
    }
   ],
   "source": [
    "print(obs['chat'])"
   ]
  },
  {
   "cell_type": "code",
   "execution_count": 14,
   "id": "3b25f072-1932-4731-9cfc-5402add95789",
   "metadata": {},
   "outputs": [
    {
     "data": {
      "text/plain": [
       "{'pov': (64, 64, 3), 'agentPos': (5,), 'inventory': (6,), 'grid': (9, 11, 11)}"
      ]
     },
     "execution_count": 14,
     "metadata": {},
     "output_type": "execute_result"
    }
   ],
   "source": [
    "{k: obs[k].shape for k in ['pov', 'agentPos', 'inventory', 'grid']}"
   ]
  },
  {
   "cell_type": "code",
   "execution_count": 15,
   "id": "67edadaa-a9e1-41e7-ac7e-a921322ffbd9",
   "metadata": {},
   "outputs": [
    {
     "data": {
      "text/plain": [
       "array([ -1.77604469,   0.41999999,  -2.25154812, -63.87334   ,\n",
       "       202.89645   ])"
      ]
     },
     "execution_count": 15,
     "metadata": {},
     "output_type": "execute_result"
    }
   ],
   "source": [
    "obs['agentPos']"
   ]
  },
  {
   "cell_type": "code",
   "execution_count": 16,
   "id": "15f5739e-e463-4849-9557-54f89e316fd5",
   "metadata": {},
   "outputs": [
    {
     "data": {
      "text/plain": [
       "array([10., 14., 14., 14., 10., 13.], dtype=float32)"
      ]
     },
     "execution_count": 16,
     "metadata": {},
     "output_type": "execute_result"
    }
   ],
   "source": [
    "obs['inventory']"
   ]
  },
  {
   "cell_type": "code",
   "execution_count": 17,
   "id": "78c57554-ad45-445b-8e32-271660da9329",
   "metadata": {},
   "outputs": [
    {
     "data": {
      "text/plain": [
       "array([[[4, 0, 4, 0],\n",
       "        [0, 0, 0, 0],\n",
       "        [4, 0, 4, 0],\n",
       "        [0, 0, 0, 0]],\n",
       "\n",
       "       [[6, 6, 6, 0],\n",
       "        [6, 0, 6, 0],\n",
       "        [6, 6, 6, 0],\n",
       "        [0, 0, 0, 0]]], dtype=int32)"
      ]
     },
     "execution_count": 17,
     "metadata": {},
     "output_type": "execute_result"
    }
   ],
   "source": [
    "info['target_grid'][:2, :4, :4]"
   ]
  },
  {
   "cell_type": "code",
   "execution_count": 18,
   "id": "daa4c11b-bfbc-44b7-b625-9eb2e6625344",
   "metadata": {},
   "outputs": [
    {
     "name": "stderr",
     "output_type": "stream",
     "text": [
      "500it [00:15, 32.79it/s]\n",
      "500it [00:10, 45.96it/s]\n"
     ]
    }
   ],
   "source": [
    "for ep in range(2):\n",
    "    obs = env.reset()\n",
    "    done = False\n",
    "    with tqdm() as bar:\n",
    "        while not done:\n",
    "            bar.update(1)\n",
    "            action = env.action_space.sample()\n",
    "            obs, reward, done, info = env.step(action)"
   ]
  },
  {
   "cell_type": "code",
   "execution_count": 19,
   "id": "95f73428-eb35-4893-91aa-4c012be09412",
   "metadata": {},
   "outputs": [
    {
     "data": {
      "text/plain": [
       "Dict(attack:Discrete(2), camera:Box(low=-180.0, high=180.0, shape=(2,)), hotbar:Discrete(7), jump:Discrete(2), move:Discrete(3), strafe:Discrete(3), use:Discrete(2))"
      ]
     },
     "execution_count": 19,
     "metadata": {},
     "output_type": "execute_result"
    }
   ],
   "source": [
    "gym.make('IGLUSilentBuilder-v0', action_space='discrete').action_space"
   ]
  },
  {
   "cell_type": "code",
   "execution_count": 20,
   "id": "470cde72-039f-46e0-8fc1-a45f467171be",
   "metadata": {},
   "outputs": [
    {
     "data": {
      "text/plain": [
       "Dict(attack:Discrete(2), camera:Box(low=-180.0, high=180.0, shape=(2,)), hotbar:Discrete(7), move_x:Box(low=-1.0, high=1.0, shape=()), move_y:Box(low=-1.0, high=1.0, shape=()), move_z:Box(low=-1.0, high=1.0, shape=()), use:Discrete(2))"
      ]
     },
     "execution_count": 20,
     "metadata": {},
     "output_type": "execute_result"
    }
   ],
   "source": [
    "gym.make('IGLUSilentBuilder-v0', action_space='continuous').action_space"
   ]
  },
  {
   "cell_type": "code",
   "execution_count": 21,
   "id": "f1b86b9a-a6f0-4005-9e7b-e355b1d7ae30",
   "metadata": {},
   "outputs": [
    {
     "data": {
      "text/plain": [
       "Dict(attack:Discrete(2), back:Discrete(2), camera:Box(low=-180.0, high=180.0, shape=(2,)), forward:Discrete(2), hotbar:Discrete(7), jump:Discrete(2), left:Discrete(2), right:Discrete(2), use:Discrete(2))"
      ]
     },
     "execution_count": 21,
     "metadata": {},
     "output_type": "execute_result"
    }
   ],
   "source": [
    "gym.make('IGLUSilentBuilder-v0', action_space='human-level').action_space"
   ]
  },
  {
   "cell_type": "code",
   "execution_count": 22,
   "id": "48315d57-e126-4821-b898-578220652e9f",
   "metadata": {},
   "outputs": [
    {
     "data": {
      "text/plain": [
       "TaskSet(\"C8\")"
      ]
     },
     "execution_count": 22,
     "metadata": {},
     "output_type": "execute_result"
    }
   ],
   "source": [
    "env.tasks"
   ]
  },
  {
   "cell_type": "code",
   "execution_count": 23,
   "id": "986d3294-5f47-4031-b2e5-882283887b3b",
   "metadata": {},
   "outputs": [],
   "source": [
    "obs = env.reset()"
   ]
  },
  {
   "cell_type": "code",
   "execution_count": 24,
   "id": "ef5381f4-beb2-4671-b0a6-1b28afbafaa7",
   "metadata": {},
   "outputs": [
    {
     "data": {
      "text/plain": [
       "\"<Builder> Mission has started.\\n<Builder> hello. what are we building this time?\\n<Architect> hello builder, one moment\\n<Architect> ok, to get started we need to place 4 orange blocks as if they are the corners of a 3x3 square, all of them on the ground\\n<Builder> can i put them anywhere?\\n<Architect> yes, the rest of the structure extends upwards\\n<Architect> perfect\\n<Architect> one moment while i look at the structure\\n<Architect> the second level of the structure consists wholly of red blocks. start by putting a red block on each orange block\\n<Architect> good, now please fill in the outer sides of the second level 3x3 square but leave the middle open\\n<Architect> using red blocks\\n<Builder> okay\\n<Architect> good job builder, we have completed yet another flawless structure!\\n<Builder> its a table?\\n<Builder> good job\\n<Architect> i don't know what it is\""
      ]
     },
     "execution_count": 24,
     "metadata": {},
     "output_type": "execute_result"
    }
   ],
   "source": [
    "env.tasks.current.chat"
   ]
  },
  {
   "cell_type": "code",
   "execution_count": 25,
   "id": "feaa6b6e-7600-41e9-9c69-75ca10dab921",
   "metadata": {},
   "outputs": [
    {
     "data": {
      "text/plain": [
       "TaskSet(\"C1\", \"C2\", \"C3\")"
      ]
     },
     "execution_count": 25,
     "metadata": {},
     "output_type": "execute_result"
    }
   ],
   "source": [
    "from iglu.tasks import TaskSet\n",
    "\n",
    "env.update_taskset(TaskSet(preset=['C1', 'C2', 'C3']))\n",
    "env.tasks"
   ]
  },
  {
   "cell_type": "code",
   "execution_count": 26,
   "id": "b1ea8cb6-4082-45e3-a80d-b61b38352b1b",
   "metadata": {},
   "outputs": [],
   "source": [
    "import numpy as np\n",
    "from iglu.tasks import CustomTasks\n",
    "\n",
    "custom_grid = np.zeros((9, 11, 11))\n",
    "custom_grid[:3, 5, 5] = 1\n",
    "env.update_taskset(CustomTasks(\n",
    "[\n",
    "    ('<Architect> Please, build a stack of three blue blocks somewhere.\\n'\n",
    "     '<Builder> Sure.',\n",
    "     custom_grid)\n",
    "]\n",
    "))\n",
    "obs = env.reset()"
   ]
  },
  {
   "cell_type": "code",
   "execution_count": 27,
   "id": "b530334c-fbb1-4f99-93ea-76da11e2e364",
   "metadata": {},
   "outputs": [
    {
     "name": "stdout",
     "output_type": "stream",
     "text": [
      "<Architect> Please, build a stack of three blue blocks somewhere.\n",
      "<Builder> Sure.\n"
     ]
    }
   ],
   "source": [
    "print(env.tasks.current.chat)"
   ]
  },
  {
   "cell_type": "code",
   "execution_count": 28,
   "id": "b81d4467-242f-4f7d-9eff-0d7bf1bf05ca",
   "metadata": {},
   "outputs": [],
   "source": [
    "from iglu.tasks import RandomTasks\n",
    "\n",
    "env.update_taskset(RandomTasks(max_blocks=3, max_dist=5, num_colors=3))"
   ]
  },
  {
   "cell_type": "code",
   "execution_count": 29,
   "id": "3003fdc0-ea7a-4ebd-b64b-3da74d8c0d54",
   "metadata": {},
   "outputs": [
    {
     "data": {
      "text/plain": [
       "RandomTasks(max_blocks=3, height_levels=1, allow_float=False, max_dist=5, num_colors=3, max_cache=0)"
      ]
     },
     "execution_count": 29,
     "metadata": {},
     "output_type": "execute_result"
    }
   ],
   "source": [
    "env.tasks"
   ]
  },
  {
   "cell_type": "code",
   "execution_count": 30,
   "id": "495857c3-a1af-4dd8-a0c1-a9096df467ea",
   "metadata": {},
   "outputs": [
    {
     "data": {
      "text/plain": [
       "(array([0, 0, 0]), array([2, 5, 5]), array([8, 4, 6]))"
      ]
     },
     "execution_count": 30,
     "metadata": {},
     "output_type": "execute_result"
    }
   ],
   "source": [
    "env.tasks.sample().target_grid.nonzero()"
   ]
  },
  {
   "cell_type": "code",
   "execution_count": 31,
   "id": "bad66d3e-dc0a-4f8b-9846-44dd3fb315d6",
   "metadata": {},
   "outputs": [],
   "source": [
    "env.close()"
   ]
  }
 ],
 "metadata": {
  "kernelspec": {
   "display_name": "Python 3 (ipykernel)",
   "language": "python",
   "name": "python3"
  },
  "language_info": {
   "codemirror_mode": {
    "name": "ipython",
    "version": 3
   },
   "file_extension": ".py",
   "mimetype": "text/x-python",
   "name": "python",
   "nbconvert_exporter": "python",
   "pygments_lexer": "ipython3",
   "version": "3.8.10"
  }
 },
 "nbformat": 4,
 "nbformat_minor": 5
}
